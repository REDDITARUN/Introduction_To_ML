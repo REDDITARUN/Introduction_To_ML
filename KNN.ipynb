{
  "cells": [
    {
      "cell_type": "code",
      "execution_count": null,
      "metadata": {
        "id": "nm46BpiBCMhh"
      },
      "outputs": [],
      "source": [
        "# Implementation Of KNN algorithim\n",
        "# Name: R B Ch S Tarun \n",
        "\n",
        "# Date : 30-OCT-2021"
      ]
    },
    {
      "cell_type": "code",
      "execution_count": null,
      "metadata": {
        "colab": {
          "base_uri": "https://localhost:8080/"
        },
        "id": "N_5zXq2qBZXE",
        "outputId": "5e35e8b9-b861-46fc-c4d7-06dd08dcf9ef"
      },
      "outputs": [
        {
          "name": "stdout",
          "output_type": "stream",
          "text": [
            "Mounted at /content/gdrive\n"
          ]
        }
      ],
      "source": [
        "#Modunting the google drive to access the files in the drive..\n",
        "from google.colab import drive\n",
        "drive.mount('/content/gdrive', force_remount=True)\n"
      ]
    },
    {
      "cell_type": "code",
      "execution_count": null,
      "metadata": {
        "id": "2HScAQO5hcwi"
      },
      "outputs": [],
      "source": [
        "# Importin  libraries\n",
        "import numpy as np\n",
        "import pandas as pd\n",
        "from sklearn.neighbors import KNeighborsClassifier\n",
        "from sklearn.model_selection import train_test_split\n",
        "from sklearn.datasets import load_iris\n",
        "import matplotlib.pyplot as plt\n",
        "import sklearn.metrics as metrics\n",
        "from sklearn.preprocessing import StandardScaler\n"
      ]
    },
    {
      "cell_type": "code",
      "execution_count": null,
      "metadata": {
        "colab": {
          "base_uri": "https://localhost:8080/"
        },
        "id": "std_1Ig1hkRH",
        "outputId": "63da9231-0575-4244-aaf6-097ac2366c28"
      },
      "outputs": [
        {
          "name": "stdout",
          "output_type": "stream",
          "text": [
            "Dataset Shape:  (351, 35)\n",
            "Dataset:     feature1  feature2  feature3  ...  feature33  feature34  label\n",
            "0         1         0   0.99539  ...    0.18641   -0.45300      g\n",
            "1         1         0   1.00000  ...   -0.13738   -0.02447      b\n",
            "2         1         0   1.00000  ...    0.56045   -0.38238      g\n",
            "3         1         0   1.00000  ...   -0.32382    1.00000      b\n",
            "4         1         0   1.00000  ...   -0.04608   -0.65697      g\n",
            "\n",
            "[5 rows x 35 columns]\n"
          ]
        }
      ],
      "source": [
        "# Mentioning the path of the dataset\n",
        "ionosphere_data = pd.read_csv('/content/gdrive/MyDrive/ML_Lab/ionosphere_data_kaggle.csv')\n",
        "print (\"Dataset Shape: \", ionosphere_data.shape) \n",
        "print (\"Dataset: \",ionosphere_data.head())  \n",
        "\n"
      ]
    },
    {
      "cell_type": "code",
      "execution_count": null,
      "metadata": {
        "colab": {
          "base_uri": "https://localhost:8080/"
        },
        "id": "MBZd8bHAiupy",
        "outputId": "f015dc4a-e29c-4dc9-981d-6c4ad5ed8986"
      },
      "outputs": [
        {
          "name": "stdout",
          "output_type": "stream",
          "text": [
            "[[1 0 0.99539 -0.05889 0.8524299999999999 0.02306 0.8339799999999999\n",
            "  -0.37708 1.0 0.0376 0.8524299999999999 -0.17755 0.59755 -0.44945\n",
            "  0.60536 -0.38223 0.8435600000000001 -0.38542 0.58212 -0.32192 0.56971\n",
            "  -0.29674 0.36946 -0.47357 0.56811 -0.51171 0.41078000000000003\n",
            "  -0.46168000000000003 0.21266 -0.3409 0.42267 -0.54487 0.18641]\n",
            " [1 0 1.0 -0.18829 0.93035 -0.36156 -0.10868 -0.9359700000000001 1.0\n",
            "  -0.045489999999999996 0.50874 -0.67743 0.34431999999999996 -0.69707\n",
            "  -0.51685 -0.97515 0.05499 -0.62237 0.33109 -1.0 -0.13151\n",
            "  -0.45299999999999996 -0.18056 -0.35734 -0.20332 -0.26569 -0.20468\n",
            "  -0.18400999999999998 -0.1904 -0.11592999999999999 -0.16626\n",
            "  -0.06287999999999999 -0.13738]\n",
            " [1 0 1.0 -0.03365 1.0 0.00485 1.0 -0.12062 0.88965 0.01198 0.73082\n",
            "  0.05346 0.8544299999999999 0.00827 0.54591 0.00299 0.83775 -0.13644\n",
            "  0.75535 -0.0854 0.70887 -0.27502 0.43385 -0.12062 0.57528 -0.4022\n",
            "  0.5898399999999999 -0.22145 0.431 -0.17365 0.60436 -0.2418 0.56045]\n",
            " [1 0 1.0 -0.45161 1.0 1.0 0.71216 -1.0 0.0 0.0 0.0 0.0 0.0 0.0 -1.0\n",
            "  0.14515999999999998 0.54094 -0.3933 -1.0 -0.54467 -0.69975 1.0 0.0 0.0\n",
            "  1.0 0.90695 0.51613 1.0 1.0 -0.20099 0.25682 1.0 -0.32382]\n",
            " [1 0 1.0 -0.02401 0.9414 0.06531 0.92106 -0.23255 0.77152 -0.16399\n",
            "  0.52798 -0.20275 0.56409 -0.0071200000000000005 0.34395 -0.27457 0.5294\n",
            "  -0.2178 0.45106999999999997 -0.17812999999999998 0.059820000000000005\n",
            "  -0.35575 0.02309 -0.52879 0.03286 -0.65158 0.1329 -0.5320600000000001\n",
            "  0.02431 -0.62197 -0.05707 -0.59573 -0.04608]]\n",
            "['g' 'b' 'g' 'b' 'g']\n"
          ]
        }
      ],
      "source": [
        "# Extracting the values, Dependent and independent \n",
        "X = ionosphere_data.values[:, 0:33] \n",
        "Y = ionosphere_data.values[:, 34]\n",
        "print(X[0:5])\n",
        "print(Y[0:5])\n",
        "\n"
      ]
    },
    {
      "cell_type": "code",
      "execution_count": null,
      "metadata": {
        "id": "z7Wl7NAoiwbm"
      },
      "outputs": [],
      "source": [
        "# Assigning how much data is required to train and how much required to test\n",
        "X_train, X_test, y_train, y_test = train_test_split(X, Y, test_size = 0.5)\n",
        "scaler = StandardScaler()\n",
        "scaler.fit(X_train)\n",
        "X_train = scaler.transform(X_train)\n",
        "X_test = scaler.transform(X_test)\n"
      ]
    },
    {
      "cell_type": "code",
      "execution_count": null,
      "metadata": {
        "colab": {
          "base_uri": "https://localhost:8080/"
        },
        "id": "sC4TG7bKiySg",
        "outputId": "649c44c2-7fd6-4876-c454-9d87e831c54b"
      },
      "outputs": [
        {
          "name": "stdout",
          "output_type": "stream",
          "text": [
            "Accuracy: 0.7670454545454546\n"
          ]
        }
      ],
      "source": [
        "\n",
        "# Using inbuilt package\n",
        "knn = KNeighborsClassifier(n_neighbors=13)\n",
        "knn.fit(X_train, y_train)\n",
        "Y_pred=knn.predict(X_test)\n",
        "print(\"Accuracy:\",metrics.accuracy_score(y_test, Y_pred))"
      ]
    }
  ],
  "metadata": {
    "colab": {
      "name": "KNN",
      "provenance": []
    },
    "kernelspec": {
      "display_name": "Python 3",
      "name": "python3"
    },
    "language_info": {
      "name": "python"
    }
  },
  "nbformat": 4,
  "nbformat_minor": 0
}
