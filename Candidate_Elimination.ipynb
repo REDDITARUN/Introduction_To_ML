{
  "nbformat": 4,
  "nbformat_minor": 0,
  "metadata": {
    "colab": {
      "name": "Candidate_Elimination.ipynb",
      "provenance": [],
      "collapsed_sections": []
    },
    "kernelspec": {
      "name": "python3",
      "display_name": "Python 3"
    },
    "language_info": {
      "name": "python"
    }
  },
  "cells": [
    {
      "cell_type": "code",
      "metadata": {
        "colab": {
          "base_uri": "https://localhost:8080/"
        },
        "id": "Cu97OEsL0Hsw",
        "outputId": "46f2611f-f801-4fe8-d3fe-9bf48654ce45"
      },
      "source": [
        "#Accessing the data requires the mounting the G-drive.\n",
        "from google.colab import drive\n",
        "drive.mount('/content/gdrive',force_remount = True)\n"
      ],
      "execution_count": null,
      "outputs": [
        {
          "output_type": "stream",
          "name": "stdout",
          "text": [
            "Mounted at /content/gdrive\n"
          ]
        }
      ]
    },
    {
      "cell_type": "code",
      "metadata": {
        "id": "JnhhpDat1VXP"
      },
      "source": [
        "import random\n",
        "import csv"
      ],
      "execution_count": null,
      "outputs": []
    },
    {
      "cell_type": "code",
      "metadata": {
        "id": "e-TesF_E1QJ0"
      },
      "source": [
        "def g_0(n):\n",
        "    return (\"?\",)*n    # Assigning the symbol For most generalised\n",
        "\n",
        "def s_0(n):\n",
        "    return ('0',)*n   # Assigning the symbol for most specific"
      ],
      "execution_count": null,
      "outputs": []
    },
    {
      "cell_type": "code",
      "metadata": {
        "colab": {
          "base_uri": "https://localhost:8080/"
        },
        "id": "YPtvR4Vf1pAe",
        "outputId": "ea766dda-0787-4ca9-f4c7-e28708f7591b"
      },
      "source": [
        "def more_general(h1, h2):\n",
        "    more_general_parts = []\n",
        "    for x, y in zip(h1, h2):\n",
        "        mg = x == \"?\" or (x != \"0\" and (x == y or y == \"0\"))\n",
        "        more_general_parts.append(mg)\n",
        "    return all(more_general_parts)\n",
        "\n",
        "l1 = [1, 2, 3]\n",
        "l2 = [3, 4, 5]\n",
        "\n",
        "list(zip(l1, l2))"
      ],
      "execution_count": null,
      "outputs": [
        {
          "output_type": "execute_result",
          "data": {
            "text/plain": [
              "[(1, 3), (2, 4), (3, 5)]"
            ]
          },
          "metadata": {},
          "execution_count": 4
        }
      ]
    },
    {
      "cell_type": "code",
      "metadata": {
        "id": "yndg_7Ia2Jdd"
      },
      "source": [
        "# min_generalizations\n",
        "def fulfills(example, hypothesis):\n",
        "    ### the implementation is the same as for hypotheses:\n",
        "    return more_general(hypothesis, example)\n",
        "\n",
        "def min_generalizations(h, x):\n",
        "    h_new = list(h)\n",
        "    for i in range(len(h)):\n",
        "        if not fulfills(x[i:i+1], h[i:i+1]):\n",
        "            h_new[i] = '?' if h[i] != '0' else x[i]\n",
        "    return [tuple(h_new)]"
      ],
      "execution_count": null,
      "outputs": []
    },
    {
      "cell_type": "code",
      "metadata": {
        "id": "UToOhXCb6Vud",
        "colab": {
          "base_uri": "https://localhost:8080/"
        },
        "outputId": "19ab4bd8-5378-465c-cd44-295f35a3ac94"
      },
      "source": [
        "min_generalizations(h=('0', '0'  , 'sunny'), \n",
        "                    x=('rainy', 'windy', 'cloudy'))"
      ],
      "execution_count": null,
      "outputs": [
        {
          "output_type": "execute_result",
          "data": {
            "text/plain": [
              "[('rainy', 'windy', '?')]"
            ]
          },
          "metadata": {},
          "execution_count": 6
        }
      ]
    },
    {
      "cell_type": "code",
      "metadata": {
        "id": "gHIXyLzR6W0F"
      },
      "source": [
        "def min_specializations(h, domains, x):\n",
        "    results = []\n",
        "    for i in range(len(h)):\n",
        "        if h[i] == \"?\":\n",
        "            for val in domains[i]:\n",
        "                if x[i] != val:\n",
        "                    h_new = h[:i] + (val,) + h[i+1:]\n",
        "                    results.append(h_new)\n",
        "        elif h[i] != \"0\":\n",
        "            h_new = h[:i] + ('0',) + h[i+1:]\n",
        "            results.append(h_new)\n",
        "    return results"
      ],
      "execution_count": null,
      "outputs": []
    },
    {
      "cell_type": "code",
      "metadata": {
        "colab": {
          "base_uri": "https://localhost:8080/"
        },
        "id": "Cm9JKj6OAHUj",
        "outputId": "9aa69e7f-530a-4d61-d286-efecc18af194"
      },
      "source": [
        "min_specializations(h=('?', 'x',), \n",
        "                    domains=[['a', 'b', 'c'], ['x', 'y']], \n",
        "                    x=('b', 'x'))"
      ],
      "execution_count": null,
      "outputs": [
        {
          "output_type": "execute_result",
          "data": {
            "text/plain": [
              "[('a', 'x'), ('c', 'x'), ('?', '0')]"
            ]
          },
          "metadata": {},
          "execution_count": 9
        }
      ]
    },
    {
      "cell_type": "code",
      "metadata": {
        "id": "-TPIeb-K6g21",
        "colab": {
          "base_uri": "https://localhost:8080/"
        },
        "outputId": "c78fcfd9-d89f-455b-a911-7099a2405b5e"
      },
      "source": [
        "with open('/content/gdrive/MyDrive/ML_Lab/findS.csv')  as csvFile:\n",
        "        examples = [tuple(line) for line in csv.reader(csvFile)]\n",
        "\n",
        "\n",
        "\n",
        "examples"
      ],
      "execution_count": null,
      "outputs": [
        {
          "output_type": "execute_result",
          "data": {
            "text/plain": [
              "[('Sunny', 'Warm', 'Normal', 'Strong', 'Warm', 'Same', 'Yes'),\n",
              " ('Sunny', 'Warm', 'High', 'Strong', 'Warm', 'Same', 'Yes'),\n",
              " ('Rainy', 'Cold', 'High', 'Strong', 'Warm', 'Change', 'No'),\n",
              " ('Sunny', 'Warm', 'High', 'Strong', 'Cool', 'Change', 'Yes')]"
            ]
          },
          "metadata": {},
          "execution_count": 10
        }
      ]
    },
    {
      "cell_type": "code",
      "metadata": {
        "id": "JHq8KcJe3bG4",
        "colab": {
          "base_uri": "https://localhost:8080/"
        },
        "outputId": "582b1782-555c-4396-f1c8-75d4b6580051"
      },
      "source": [
        "def get_domains(examples):\n",
        "    d = [set() for i in examples[0]]\n",
        "    for x in examples:\n",
        "        for i, xi in enumerate(x):\n",
        "            d[i].add(xi)\n",
        "    return [list(sorted(x)) for x in d]\n",
        "\n",
        "get_domains(examples)"
      ],
      "execution_count": null,
      "outputs": [
        {
          "output_type": "execute_result",
          "data": {
            "text/plain": [
              "[['Rainy', 'Sunny'],\n",
              " ['Cold', 'Warm'],\n",
              " ['High', 'Normal'],\n",
              " ['Strong'],\n",
              " ['Cool', 'Warm'],\n",
              " ['Change', 'Same'],\n",
              " ['No', 'Yes']]"
            ]
          },
          "metadata": {},
          "execution_count": 11
        }
      ]
    },
    {
      "cell_type": "code",
      "metadata": {
        "id": "iyWH_45j3f92"
      },
      "source": [
        "def candidate_elimination(examples):\n",
        "    domains = get_domains(examples)[:-1]\n",
        "    \n",
        "    G = set([g_0(len(domains))])\n",
        "    S = set([s_0(len(domains))])\n",
        "    i=0\n",
        "    print(\"\\n G[{0}]:\".format(i),G)\n",
        "    print(\"\\n S[{0}]:\".format(i),S)\n",
        "    for xcx in examples:\n",
        "        i=i+1\n",
        "        x, cx = xcx[:-1], xcx[-1]  # Splitting data into attributes and decisions\n",
        "        if cx=='Y': # x is positive example\n",
        "            G = {g for g in G if fulfills(x, g)}\n",
        "            S = generalize_S(x, G, S)\n",
        "        else: # x is negative example\n",
        "            S = {s for s in S if not fulfills(x, s)}\n",
        "            G = specialize_G(x, domains, G, S)\n",
        "        print(\"\\n G[{0}]:\".format(i),G)\n",
        "        print(\"\\n S[{0}]:\".format(i),S)\n",
        "    return"
      ],
      "execution_count": null,
      "outputs": []
    },
    {
      "cell_type": "code",
      "metadata": {
        "id": "dLUmV-8t373f"
      },
      "source": [
        "def generalize_S(x, G, S):\n",
        "    S_prev = list(S)\n",
        "    for s in S_prev:\n",
        "        if s not in S:\n",
        "            continue\n",
        "        if not fulfills(x, s):\n",
        "            S.remove(s)\n",
        "            Splus = min_generalizations(s, x)\n",
        "            ## keep only generalizations that have a counterpart in G\n",
        "            S.update([h for h in Splus if any([more_general(g,h) \n",
        "                                               for g in G])])\n",
        "            ## remove hypotheses less specific than any other in S\n",
        "            S.difference_update([h for h in S if \n",
        "                                 any([more_general(h, h1) \n",
        "                                      for h1 in S if h != h1])])\n",
        "    return S"
      ],
      "execution_count": null,
      "outputs": []
    },
    {
      "cell_type": "code",
      "metadata": {
        "id": "nX03FBnq3_2z"
      },
      "source": [
        "def specialize_G(x, domains, G, S):\n",
        "    G_prev = list(G)\n",
        "    for g in G_prev:\n",
        "        if g not in G:\n",
        "            continue\n",
        "        if fulfills(x, g):\n",
        "            G.remove(g)\n",
        "            Gminus = min_specializations(g, domains, x)\n",
        "            ## keep only specializations that have a conuterpart in S\n",
        "            G.update([h for h in Gminus if any([more_general(h, s)\n",
        "                                                for s in S])])\n",
        "            ## remove hypotheses less general than any other in G\n",
        "            G.difference_update([h for h in G if \n",
        "                                 any([more_general(g1, h) \n",
        "                                      for g1 in G if h != g1])])\n",
        "    return G"
      ],
      "execution_count": null,
      "outputs": []
    },
    {
      "cell_type": "code",
      "metadata": {
        "id": "eWdCq-fF4DMW",
        "colab": {
          "base_uri": "https://localhost:8080/"
        },
        "outputId": "de589525-fce6-4096-e5c9-5732f2145ffe"
      },
      "source": [
        "candidate_elimination(examples)"
      ],
      "execution_count": null,
      "outputs": [
        {
          "output_type": "stream",
          "name": "stdout",
          "text": [
            "\n",
            " G[0]: {('?', '?', '?', '?', '?', '?')}\n",
            "\n",
            " S[0]: {('0', '0', '0', '0', '0', '0')}\n",
            "\n",
            " G[1]: {('?', 'Cold', '?', '?', '?', '?'), ('Rainy', '?', '?', '?', '?', '?'), ('?', '?', '?', '?', '?', 'Change'), ('?', '?', '?', '?', 'Cool', '?'), ('?', '?', 'High', '?', '?', '?')}\n",
            "\n",
            " S[1]: {('0', '0', '0', '0', '0', '0')}\n",
            "\n",
            " G[2]: {('?', 'Cold', '?', '?', '?', '?'), ('Rainy', '?', '?', '?', '?', '?'), ('?', '?', '?', '?', '?', 'Change'), ('?', '?', '?', '?', 'Cool', '?')}\n",
            "\n",
            " S[2]: {('0', '0', '0', '0', '0', '0')}\n",
            "\n",
            " G[3]: {('?', 'Cold', 'Normal', '?', '?', '?'), ('Rainy', '?', 'Normal', '?', '?', '?'), ('?', '?', '?', '?', 'Cool', '?'), ('Sunny', 'Cold', '?', '?', '?', '?'), ('Rainy', '?', '?', '?', '?', 'Same'), ('Sunny', '?', '?', '?', '?', 'Change'), ('?', 'Warm', '?', '?', '?', 'Change'), ('Rainy', 'Warm', '?', '?', '?', '?'), ('?', '?', 'Normal', '?', '?', 'Change'), ('?', 'Cold', '?', '?', '?', 'Same')}\n",
            "\n",
            " S[3]: {('0', '0', '0', '0', '0', '0')}\n",
            "\n",
            " G[4]: {('?', '?', '?', '?', 'Cool', 'Same'), ('?', 'Cold', 'Normal', '?', '?', '?'), ('Rainy', '?', 'Normal', '?', '?', '?'), ('?', '?', 'Normal', '?', 'Cool', '?'), ('Rainy', '?', '?', '?', 'Cool', '?'), ('Sunny', 'Cold', '?', '?', '?', '?'), ('Rainy', '?', '?', '?', '?', 'Same'), ('?', 'Cold', '?', '?', 'Cool', '?'), ('Rainy', 'Warm', '?', '?', '?', '?'), ('Sunny', '?', '?', '?', 'Warm', 'Change'), ('?', 'Warm', '?', '?', 'Warm', 'Change'), ('?', '?', 'Normal', '?', '?', 'Change'), ('?', 'Cold', '?', '?', '?', 'Same')}\n",
            "\n",
            " S[4]: {('0', '0', '0', '0', '0', '0')}\n"
          ]
        }
      ]
    }
  ]
}