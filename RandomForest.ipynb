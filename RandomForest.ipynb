{
  "cells": [
    {
      "cell_type": "code",
      "execution_count": null,
      "metadata": {
        "id": "g1IaLN8FU66R"
      },
      "outputs": [],
      "source": []
    },
    {
      "cell_type": "code",
      "execution_count": null,
      "metadata": {
        "colab": {
          "base_uri": "https://localhost:8080/"
        },
        "id": "xmKyuFLyKIK2",
        "outputId": "94cbf4d8-80c5-4fcf-bfbe-a2df9a8a76e8"
      },
      "outputs": [
        {
          "name": "stdout",
          "output_type": "stream",
          "text": [
            "Mounted at /content/gdrive\n"
          ]
        }
      ],
      "source": [
        "# MACHINE LEARNING LAB - CSE 3008\n",
        "#--------------------------------\n",
        "# NAME: R B Ch S Tarun\n",
        "\n",
        "# Date: 28 - OCT - 2021\n",
        "\n",
        "\n",
        "#MOUNTING THE GOOGLE DRIVE TO ACCESSING THE CONTENTS..\n",
        "from google.colab import drive\n",
        "drive.mount('/content/gdrive',force_remount = True)"
      ]
    },
    {
      "cell_type": "code",
      "execution_count": null,
      "metadata": {
        "id": "CyxZ6R7sU9C0"
      },
      "outputs": [],
      "source": [
        "# Importing libraries\n",
        "import numpy as np \n",
        "import pandas as pd \n",
        "import sklearn\n",
        "from sklearn.model_selection import train_test_split\n",
        "from sklearn.ensemble import RandomForestClassifier \n",
        "from sklearn.metrics import accuracy_score \n",
        "from sklearn.datasets import load_iris\n",
        "import sklearn.metrics as metrics\n"
      ]
    },
    {
      "cell_type": "code",
      "execution_count": null,
      "metadata": {
        "colab": {
          "base_uri": "https://localhost:8080/"
        },
        "id": "jFND9df-VA3D",
        "outputId": "6060d630-a913-4cf6-8905-eabae23928ad"
      },
      "outputs": [
        {
          "name": "stdout",
          "output_type": "stream",
          "text": [
            "Dataset Shape:  (150, 6)\n",
            "Dataset:     Id  SepalLengthCm  SepalWidthCm  PetalLengthCm  PetalWidthCm      Species\n",
            "0   1            5.1           3.5            1.4           0.2  Iris-setosa\n",
            "1   2            4.9           3.0            1.4           0.2  Iris-setosa\n",
            "2   3            4.7           3.2            1.3           0.2  Iris-setosa\n",
            "3   4            4.6           3.1            1.5           0.2  Iris-setosa\n",
            "4   5            5.0           3.6            1.4           0.2  Iris-setosa\n"
          ]
        }
      ],
      "source": [
        "#Importing the data from drive\n",
        "iris = pd.read_csv('/content/gdrive/MyDrive/ML_Lab/Iris.csv')\n",
        "print (\"Dataset Shape: \", iris.shape) \n",
        "print (\"Dataset: \",iris.head()) "
      ]
    },
    {
      "cell_type": "code",
      "execution_count": null,
      "metadata": {
        "colab": {
          "base_uri": "https://localhost:8080/"
        },
        "id": "lXen9metVFoW",
        "outputId": "38c17523-5ed5-4d85-88d7-44fa5e794f86"
      },
      "outputs": [
        {
          "name": "stdout",
          "output_type": "stream",
          "text": [
            "[[1 5.1 3.5 1.4]\n",
            " [2 4.9 3.0 1.4]\n",
            " [3 4.7 3.2 1.3]\n",
            " [4 4.6 3.1 1.5]\n",
            " [5 5.0 3.6 1.4]]\n",
            "['Iris-setosa' 'Iris-setosa' 'Iris-setosa' 'Iris-setosa' 'Iris-setosa']\n",
            "Accuracy: 1.0\n"
          ]
        }
      ],
      "source": [
        "X = iris.values[:, 0:4] \n",
        "Y = iris.values[:, 5]\n",
        "print(X[0:5])\n",
        "print(Y[0:5])\n",
        "X_train, X_test, y_train, y_test = train_test_split(X, Y, test_size = 0.5)\n",
        "\n",
        "clfr= RandomForestClassifier(n_estimators=150)\n",
        "clfr.fit(X_train, y_train)\n",
        "\n",
        "RandomForestClassifier(bootstrap=True, ccp_alpha=0.0, class_weight=None,\n",
        " criterion='gini', max_depth=None, max_features='auto',\n",
        " max_leaf_nodes=None, max_samples=None,\n",
        " min_impurity_decrease=0.0, min_impurity_split=None,\n",
        " min_samples_leaf=1, min_samples_split=2,\n",
        " min_weight_fraction_leaf=0.0, n_estimators=150,\n",
        " n_jobs=None, oob_score=False, random_state=None,\n",
        " verbose=0, warm_start=False)\n",
        "Y_pred=clfr.predict(X_test)\n",
        "\n",
        "print(\"Accuracy:\",metrics.accuracy_score(y_test, Y_pred))\n",
        "\n",
        "# We getting the accuracy of 1 might be due to the random picks of values"
      ]
    }
  ],
  "metadata": {
    "colab": {
      "name": "RandomForest.ipynb",
      "provenance": []
    },
    "kernelspec": {
      "display_name": "Python 3",
      "name": "python3"
    },
    "language_info": {
      "name": "python"
    }
  },
  "nbformat": 4,
  "nbformat_minor": 0
}
