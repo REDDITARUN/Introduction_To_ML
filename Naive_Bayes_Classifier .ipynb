{
  "nbformat": 4,
  "nbformat_minor": 0,
  "metadata": {
    "colab": {
      "name": "Naive Bayes Classifier",
      "provenance": [],
      "collapsed_sections": []
    },
    "kernelspec": {
      "name": "python3",
      "display_name": "Python 3"
    },
    "language_info": {
      "name": "python"
    }
  },
  "cells": [
    {
      "cell_type": "markdown",
      "metadata": {
        "id": "2FFs-XoIUa36"
      },
      "source": [
        "\n",
        "\n",
        "# **Implement the naïve Bayesian classifier**\n",
        "### **Name: Tarun**\n",
        "\n",
        "### **Date: 09/November/2021**"
      ]
    },
    {
      "cell_type": "markdown",
      "metadata": {
        "id": "xTXnvW1fiEqS"
      },
      "source": [
        "\n",
        "\n",
        "*   Statstical Method for Classification\n",
        "*   Supervised learnig model\n",
        "*   Assumes an underlying probabilistic model, the Bayes therom.\n",
        "*   Can solve problems involving both categorical and continous values attributes.\n",
        "*   Named after Thomas Bayes, who proposed the Bayes Therom\n",
        "\n"
      ]
    },
    {
      "cell_type": "code",
      "metadata": {
        "colab": {
          "base_uri": "https://localhost:8080/"
        },
        "id": "iho1_JtJinYQ",
        "outputId": "ebe04c97-a2fe-4173-efff-34170fec9af2"
      },
      "source": [
        "# mounting google drive\n",
        "from google.colab import drive\n",
        "drive.mount('/content/gdrive',force_remount = True)"
      ],
      "execution_count": null,
      "outputs": [
        {
          "output_type": "stream",
          "name": "stdout",
          "text": [
            "Mounted at /content/gdrive\n"
          ]
        }
      ]
    },
    {
      "cell_type": "code",
      "metadata": {
        "id": "wgExHpuqjHKd"
      },
      "source": [
        "# importing libearies\n",
        "\n",
        "import pandas as pd\n",
        "import numpy as np\n",
        "\n",
        "import seaborn as ns\n",
        "import matplotlib.pyplot as plt\n",
        "%matplotlib inline\n",
        "\n",
        "from sklearn.naive_bayes import GaussianNB\n",
        "from sklearn.model_selection import train_test_split\n",
        "from sklearn.metrics import classification_report\n",
        "from sklearn.metrics import confusion_matrix\n",
        "from sklearn.metrics import accuracy_score\n",
        "from yellowbrick.classifier import ConfusionMatrix"
      ],
      "execution_count": null,
      "outputs": []
    },
    {
      "cell_type": "code",
      "metadata": {
        "colab": {
          "base_uri": "https://localhost:8080/",
          "height": 475
        },
        "id": "C_KXhEbbbA6t",
        "outputId": "d0d8e973-05e8-4da1-f58e-4024bca21042"
      },
      "source": [
        "## IMPORTING DATASET\n",
        "\n",
        "### The Interview Attendance Problem\n",
        "##### Predict which candidates will attend the intervew\n",
        "df = pd.read_csv(\"/content/gdrive/MyDrive/ML_Lab/Interview.csv\")\n",
        "df.head()"
      ],
      "execution_count": null,
      "outputs": [
        {
          "output_type": "execute_result",
          "data": {
            "text/html": [
              "<div>\n",
              "<style scoped>\n",
              "    .dataframe tbody tr th:only-of-type {\n",
              "        vertical-align: middle;\n",
              "    }\n",
              "\n",
              "    .dataframe tbody tr th {\n",
              "        vertical-align: top;\n",
              "    }\n",
              "\n",
              "    .dataframe thead th {\n",
              "        text-align: right;\n",
              "    }\n",
              "</style>\n",
              "<table border=\"1\" class=\"dataframe\">\n",
              "  <thead>\n",
              "    <tr style=\"text-align: right;\">\n",
              "      <th></th>\n",
              "      <th>Date of Interview</th>\n",
              "      <th>Client name</th>\n",
              "      <th>Industry</th>\n",
              "      <th>Location</th>\n",
              "      <th>Position to be closed</th>\n",
              "      <th>Nature of Skillset</th>\n",
              "      <th>Interview Type</th>\n",
              "      <th>Name(Cand ID)</th>\n",
              "      <th>Gender</th>\n",
              "      <th>Candidate Current Location</th>\n",
              "      <th>Candidate Job Location</th>\n",
              "      <th>Interview Venue</th>\n",
              "      <th>Candidate Native location</th>\n",
              "      <th>Have you obtained the necessary permission to start at the required time</th>\n",
              "      <th>Hope there will be no unscheduled meetings</th>\n",
              "      <th>Can I Call you three hours before the interview and follow up on your attendance for the interview</th>\n",
              "      <th>Can I have an alternative number/ desk number. I assure you that I will not trouble you too much</th>\n",
              "      <th>Have you taken a printout of your updated resume. Have you read the JD and understood the same</th>\n",
              "      <th>Are you clear with the venue details and the landmark.</th>\n",
              "      <th>Has the call letter been shared</th>\n",
              "      <th>Expected Attendance</th>\n",
              "      <th>Observed Attendance</th>\n",
              "      <th>Marital Status</th>\n",
              "      <th>Unnamed: 23</th>\n",
              "      <th>Unnamed: 24</th>\n",
              "      <th>Unnamed: 25</th>\n",
              "      <th>Unnamed: 26</th>\n",
              "      <th>Unnamed: 27</th>\n",
              "    </tr>\n",
              "  </thead>\n",
              "  <tbody>\n",
              "    <tr>\n",
              "      <th>0</th>\n",
              "      <td>13.02.2015</td>\n",
              "      <td>Hospira</td>\n",
              "      <td>Pharmaceuticals</td>\n",
              "      <td>Chennai</td>\n",
              "      <td>Production- Sterile</td>\n",
              "      <td>Routine</td>\n",
              "      <td>Scheduled Walkin</td>\n",
              "      <td>Candidate 1</td>\n",
              "      <td>Male</td>\n",
              "      <td>Chennai</td>\n",
              "      <td>Hosur</td>\n",
              "      <td>Hosur</td>\n",
              "      <td>Hosur</td>\n",
              "      <td>Yes</td>\n",
              "      <td>Yes</td>\n",
              "      <td>Yes</td>\n",
              "      <td>Yes</td>\n",
              "      <td>Yes</td>\n",
              "      <td>Yes</td>\n",
              "      <td>Yes</td>\n",
              "      <td>Yes</td>\n",
              "      <td>No</td>\n",
              "      <td>Single</td>\n",
              "      <td>NaN</td>\n",
              "      <td>NaN</td>\n",
              "      <td>NaN</td>\n",
              "      <td>NaN</td>\n",
              "      <td>NaN</td>\n",
              "    </tr>\n",
              "    <tr>\n",
              "      <th>1</th>\n",
              "      <td>13.02.2015</td>\n",
              "      <td>Hospira</td>\n",
              "      <td>Pharmaceuticals</td>\n",
              "      <td>Chennai</td>\n",
              "      <td>Production- Sterile</td>\n",
              "      <td>Routine</td>\n",
              "      <td>Scheduled Walkin</td>\n",
              "      <td>Candidate 2</td>\n",
              "      <td>Male</td>\n",
              "      <td>Chennai</td>\n",
              "      <td>Bangalore</td>\n",
              "      <td>Hosur</td>\n",
              "      <td>Trichy</td>\n",
              "      <td>Yes</td>\n",
              "      <td>Yes</td>\n",
              "      <td>Yes</td>\n",
              "      <td>Yes</td>\n",
              "      <td>Yes</td>\n",
              "      <td>Yes</td>\n",
              "      <td>Yes</td>\n",
              "      <td>Yes</td>\n",
              "      <td>No</td>\n",
              "      <td>Single</td>\n",
              "      <td>NaN</td>\n",
              "      <td>NaN</td>\n",
              "      <td>NaN</td>\n",
              "      <td>NaN</td>\n",
              "      <td>NaN</td>\n",
              "    </tr>\n",
              "    <tr>\n",
              "      <th>2</th>\n",
              "      <td>13.02.2015</td>\n",
              "      <td>Hospira</td>\n",
              "      <td>Pharmaceuticals</td>\n",
              "      <td>Chennai</td>\n",
              "      <td>Production- Sterile</td>\n",
              "      <td>Routine</td>\n",
              "      <td>Scheduled Walkin</td>\n",
              "      <td>Candidate 3</td>\n",
              "      <td>Male</td>\n",
              "      <td>Chennai</td>\n",
              "      <td>Chennai</td>\n",
              "      <td>Hosur</td>\n",
              "      <td>Chennai</td>\n",
              "      <td>NaN</td>\n",
              "      <td>Na</td>\n",
              "      <td>NaN</td>\n",
              "      <td>NaN</td>\n",
              "      <td>NaN</td>\n",
              "      <td>NaN</td>\n",
              "      <td>NaN</td>\n",
              "      <td>Uncertain</td>\n",
              "      <td>No</td>\n",
              "      <td>Single</td>\n",
              "      <td>NaN</td>\n",
              "      <td>NaN</td>\n",
              "      <td>NaN</td>\n",
              "      <td>NaN</td>\n",
              "      <td>NaN</td>\n",
              "    </tr>\n",
              "    <tr>\n",
              "      <th>3</th>\n",
              "      <td>13.02.2015</td>\n",
              "      <td>Hospira</td>\n",
              "      <td>Pharmaceuticals</td>\n",
              "      <td>Chennai</td>\n",
              "      <td>Production- Sterile</td>\n",
              "      <td>Routine</td>\n",
              "      <td>Scheduled Walkin</td>\n",
              "      <td>Candidate 4</td>\n",
              "      <td>Male</td>\n",
              "      <td>Chennai</td>\n",
              "      <td>Chennai</td>\n",
              "      <td>Hosur</td>\n",
              "      <td>Chennai</td>\n",
              "      <td>Yes</td>\n",
              "      <td>Yes</td>\n",
              "      <td>No</td>\n",
              "      <td>Yes</td>\n",
              "      <td>No</td>\n",
              "      <td>Yes</td>\n",
              "      <td>Yes</td>\n",
              "      <td>Uncertain</td>\n",
              "      <td>No</td>\n",
              "      <td>Single</td>\n",
              "      <td>NaN</td>\n",
              "      <td>NaN</td>\n",
              "      <td>NaN</td>\n",
              "      <td>NaN</td>\n",
              "      <td>NaN</td>\n",
              "    </tr>\n",
              "    <tr>\n",
              "      <th>4</th>\n",
              "      <td>13.02.2015</td>\n",
              "      <td>Hospira</td>\n",
              "      <td>Pharmaceuticals</td>\n",
              "      <td>Chennai</td>\n",
              "      <td>Production- Sterile</td>\n",
              "      <td>Routine</td>\n",
              "      <td>Scheduled Walkin</td>\n",
              "      <td>Candidate 5</td>\n",
              "      <td>Male</td>\n",
              "      <td>Chennai</td>\n",
              "      <td>Bangalore</td>\n",
              "      <td>Hosur</td>\n",
              "      <td>Chennai</td>\n",
              "      <td>Yes</td>\n",
              "      <td>Yes</td>\n",
              "      <td>Yes</td>\n",
              "      <td>No</td>\n",
              "      <td>Yes</td>\n",
              "      <td>Yes</td>\n",
              "      <td>Yes</td>\n",
              "      <td>Uncertain</td>\n",
              "      <td>No</td>\n",
              "      <td>Married</td>\n",
              "      <td>NaN</td>\n",
              "      <td>NaN</td>\n",
              "      <td>NaN</td>\n",
              "      <td>NaN</td>\n",
              "      <td>NaN</td>\n",
              "    </tr>\n",
              "  </tbody>\n",
              "</table>\n",
              "</div>"
            ],
            "text/plain": [
              "  Date of Interview Client name  ... Unnamed: 26 Unnamed: 27\n",
              "0        13.02.2015     Hospira  ...         NaN         NaN\n",
              "1        13.02.2015     Hospira  ...         NaN         NaN\n",
              "2        13.02.2015     Hospira  ...         NaN         NaN\n",
              "3        13.02.2015     Hospira  ...         NaN         NaN\n",
              "4        13.02.2015     Hospira  ...         NaN         NaN\n",
              "\n",
              "[5 rows x 28 columns]"
            ]
          },
          "metadata": {},
          "execution_count": 40
        }
      ]
    },
    {
      "cell_type": "code",
      "metadata": {
        "id": "CHXPrvhnbTbq"
      },
      "source": [
        ""
      ],
      "execution_count": null,
      "outputs": []
    },
    {
      "cell_type": "markdown",
      "metadata": {
        "id": "Tz-g4ccIbbOs"
      },
      "source": [
        "## ANALYZING THE DATA"
      ]
    },
    {
      "cell_type": "code",
      "metadata": {
        "id": "zxGtEh_5bbOv",
        "colab": {
          "base_uri": "https://localhost:8080/"
        },
        "outputId": "2bb2fd43-e88f-441c-c909-4baa6b5a634b"
      },
      "source": [
        "df.shape"
      ],
      "execution_count": null,
      "outputs": [
        {
          "output_type": "execute_result",
          "data": {
            "text/plain": [
              "(1234, 28)"
            ]
          },
          "metadata": {},
          "execution_count": 41
        }
      ]
    },
    {
      "cell_type": "code",
      "metadata": {
        "id": "v2O6mA_zbbOz",
        "colab": {
          "base_uri": "https://localhost:8080/",
          "height": 312
        },
        "outputId": "e5e4d179-289a-46b6-e478-58b750c6c650"
      },
      "source": [
        "df.describe()"
      ],
      "execution_count": null,
      "outputs": [
        {
          "output_type": "execute_result",
          "data": {
            "text/html": [
              "<div>\n",
              "<style scoped>\n",
              "    .dataframe tbody tr th:only-of-type {\n",
              "        vertical-align: middle;\n",
              "    }\n",
              "\n",
              "    .dataframe tbody tr th {\n",
              "        vertical-align: top;\n",
              "    }\n",
              "\n",
              "    .dataframe thead th {\n",
              "        text-align: right;\n",
              "    }\n",
              "</style>\n",
              "<table border=\"1\" class=\"dataframe\">\n",
              "  <thead>\n",
              "    <tr style=\"text-align: right;\">\n",
              "      <th></th>\n",
              "      <th>Unnamed: 23</th>\n",
              "      <th>Unnamed: 24</th>\n",
              "      <th>Unnamed: 25</th>\n",
              "      <th>Unnamed: 26</th>\n",
              "      <th>Unnamed: 27</th>\n",
              "    </tr>\n",
              "  </thead>\n",
              "  <tbody>\n",
              "    <tr>\n",
              "      <th>count</th>\n",
              "      <td>0.0</td>\n",
              "      <td>0.0</td>\n",
              "      <td>0.0</td>\n",
              "      <td>0.0</td>\n",
              "      <td>0.0</td>\n",
              "    </tr>\n",
              "    <tr>\n",
              "      <th>mean</th>\n",
              "      <td>NaN</td>\n",
              "      <td>NaN</td>\n",
              "      <td>NaN</td>\n",
              "      <td>NaN</td>\n",
              "      <td>NaN</td>\n",
              "    </tr>\n",
              "    <tr>\n",
              "      <th>std</th>\n",
              "      <td>NaN</td>\n",
              "      <td>NaN</td>\n",
              "      <td>NaN</td>\n",
              "      <td>NaN</td>\n",
              "      <td>NaN</td>\n",
              "    </tr>\n",
              "    <tr>\n",
              "      <th>min</th>\n",
              "      <td>NaN</td>\n",
              "      <td>NaN</td>\n",
              "      <td>NaN</td>\n",
              "      <td>NaN</td>\n",
              "      <td>NaN</td>\n",
              "    </tr>\n",
              "    <tr>\n",
              "      <th>25%</th>\n",
              "      <td>NaN</td>\n",
              "      <td>NaN</td>\n",
              "      <td>NaN</td>\n",
              "      <td>NaN</td>\n",
              "      <td>NaN</td>\n",
              "    </tr>\n",
              "    <tr>\n",
              "      <th>50%</th>\n",
              "      <td>NaN</td>\n",
              "      <td>NaN</td>\n",
              "      <td>NaN</td>\n",
              "      <td>NaN</td>\n",
              "      <td>NaN</td>\n",
              "    </tr>\n",
              "    <tr>\n",
              "      <th>75%</th>\n",
              "      <td>NaN</td>\n",
              "      <td>NaN</td>\n",
              "      <td>NaN</td>\n",
              "      <td>NaN</td>\n",
              "      <td>NaN</td>\n",
              "    </tr>\n",
              "    <tr>\n",
              "      <th>max</th>\n",
              "      <td>NaN</td>\n",
              "      <td>NaN</td>\n",
              "      <td>NaN</td>\n",
              "      <td>NaN</td>\n",
              "      <td>NaN</td>\n",
              "    </tr>\n",
              "  </tbody>\n",
              "</table>\n",
              "</div>"
            ],
            "text/plain": [
              "       Unnamed: 23  Unnamed: 24  Unnamed: 25  Unnamed: 26  Unnamed: 27\n",
              "count          0.0          0.0          0.0          0.0          0.0\n",
              "mean           NaN          NaN          NaN          NaN          NaN\n",
              "std            NaN          NaN          NaN          NaN          NaN\n",
              "min            NaN          NaN          NaN          NaN          NaN\n",
              "25%            NaN          NaN          NaN          NaN          NaN\n",
              "50%            NaN          NaN          NaN          NaN          NaN\n",
              "75%            NaN          NaN          NaN          NaN          NaN\n",
              "max            NaN          NaN          NaN          NaN          NaN"
            ]
          },
          "metadata": {},
          "execution_count": 42
        }
      ]
    },
    {
      "cell_type": "code",
      "metadata": {
        "id": "rRC5OeambbO3",
        "colab": {
          "base_uri": "https://localhost:8080/"
        },
        "outputId": "dbb1cc71-d9f3-48c7-f46e-7adcfb8ca916"
      },
      "source": [
        "df.columns"
      ],
      "execution_count": null,
      "outputs": [
        {
          "output_type": "execute_result",
          "data": {
            "text/plain": [
              "Index(['Date of Interview', 'Client name', 'Industry', 'Location',\n",
              "       'Position to be closed', 'Nature of Skillset', 'Interview Type',\n",
              "       'Name(Cand ID)', 'Gender', 'Candidate Current Location',\n",
              "       'Candidate Job Location', 'Interview Venue',\n",
              "       'Candidate Native location',\n",
              "       'Have you obtained the necessary permission to start at the required time',\n",
              "       'Hope there will be no unscheduled meetings',\n",
              "       'Can I Call you three hours before the interview and follow up on your attendance for the interview',\n",
              "       'Can I have an alternative number/ desk number. I assure you that I will not trouble you too much',\n",
              "       'Have you taken a printout of your updated resume. Have you read the JD and understood the same',\n",
              "       'Are you clear with the venue details and the landmark.',\n",
              "       'Has the call letter been shared', 'Expected Attendance',\n",
              "       'Observed Attendance', 'Marital Status', 'Unnamed: 23', 'Unnamed: 24',\n",
              "       'Unnamed: 25', 'Unnamed: 26', 'Unnamed: 27'],\n",
              "      dtype='object')"
            ]
          },
          "metadata": {},
          "execution_count": 43
        }
      ]
    },
    {
      "cell_type": "code",
      "metadata": {
        "id": "p6ajZAcgbbO6",
        "colab": {
          "base_uri": "https://localhost:8080/"
        },
        "outputId": "48d271ae-4d01-4ad5-89f7-e735245eddb1"
      },
      "source": [
        "df.isnull().sum()"
      ],
      "execution_count": null,
      "outputs": [
        {
          "output_type": "execute_result",
          "data": {
            "text/plain": [
              "Date of Interview                                                                                        1\n",
              "Client name                                                                                              0\n",
              "Industry                                                                                                 1\n",
              "Location                                                                                                 1\n",
              "Position to be closed                                                                                    1\n",
              "Nature of Skillset                                                                                       1\n",
              "Interview Type                                                                                           1\n",
              "Name(Cand ID)                                                                                            1\n",
              "Gender                                                                                                   1\n",
              "Candidate Current Location                                                                               1\n",
              "Candidate Job Location                                                                                   1\n",
              "Interview Venue                                                                                          1\n",
              "Candidate Native location                                                                                1\n",
              "Have you obtained the necessary permission to start at the required time                               205\n",
              "Hope there will be no unscheduled meetings                                                             248\n",
              "Can I Call you three hours before the interview and follow up on your attendance for the interview     248\n",
              "Can I have an alternative number/ desk number. I assure you that I will not trouble you too much       248\n",
              "Have you taken a printout of your updated resume. Have you read the JD and understood the same         249\n",
              "Are you clear with the venue details and the landmark.                                                 249\n",
              "Has the call letter been shared                                                                        246\n",
              "Expected Attendance                                                                                      6\n",
              "Observed Attendance                                                                                      1\n",
              "Marital Status                                                                                           1\n",
              "Unnamed: 23                                                                                           1234\n",
              "Unnamed: 24                                                                                           1234\n",
              "Unnamed: 25                                                                                           1234\n",
              "Unnamed: 26                                                                                           1234\n",
              "Unnamed: 27                                                                                           1234\n",
              "dtype: int64"
            ]
          },
          "metadata": {},
          "execution_count": 44
        }
      ]
    },
    {
      "cell_type": "code",
      "metadata": {
        "id": "sFu0lL0YbbO8"
      },
      "source": [
        "df = df.drop(['Unnamed: 23', 'Unnamed: 24', 'Unnamed: 25', 'Unnamed: 26', 'Unnamed: 27'],axis = 1)"
      ],
      "execution_count": null,
      "outputs": []
    },
    {
      "cell_type": "code",
      "metadata": {
        "id": "SmxyW287bbO9",
        "colab": {
          "base_uri": "https://localhost:8080/",
          "height": 268
        },
        "outputId": "be43ec39-e7cd-4ae4-e6a0-e286d43e0dc4"
      },
      "source": [
        "df[df['Date of Interview'].isna() == True]"
      ],
      "execution_count": null,
      "outputs": [
        {
          "output_type": "execute_result",
          "data": {
            "text/html": [
              "<div>\n",
              "<style scoped>\n",
              "    .dataframe tbody tr th:only-of-type {\n",
              "        vertical-align: middle;\n",
              "    }\n",
              "\n",
              "    .dataframe tbody tr th {\n",
              "        vertical-align: top;\n",
              "    }\n",
              "\n",
              "    .dataframe thead th {\n",
              "        text-align: right;\n",
              "    }\n",
              "</style>\n",
              "<table border=\"1\" class=\"dataframe\">\n",
              "  <thead>\n",
              "    <tr style=\"text-align: right;\">\n",
              "      <th></th>\n",
              "      <th>Date of Interview</th>\n",
              "      <th>Client name</th>\n",
              "      <th>Industry</th>\n",
              "      <th>Location</th>\n",
              "      <th>Position to be closed</th>\n",
              "      <th>Nature of Skillset</th>\n",
              "      <th>Interview Type</th>\n",
              "      <th>Name(Cand ID)</th>\n",
              "      <th>Gender</th>\n",
              "      <th>Candidate Current Location</th>\n",
              "      <th>Candidate Job Location</th>\n",
              "      <th>Interview Venue</th>\n",
              "      <th>Candidate Native location</th>\n",
              "      <th>Have you obtained the necessary permission to start at the required time</th>\n",
              "      <th>Hope there will be no unscheduled meetings</th>\n",
              "      <th>Can I Call you three hours before the interview and follow up on your attendance for the interview</th>\n",
              "      <th>Can I have an alternative number/ desk number. I assure you that I will not trouble you too much</th>\n",
              "      <th>Have you taken a printout of your updated resume. Have you read the JD and understood the same</th>\n",
              "      <th>Are you clear with the venue details and the landmark.</th>\n",
              "      <th>Has the call letter been shared</th>\n",
              "      <th>Expected Attendance</th>\n",
              "      <th>Observed Attendance</th>\n",
              "      <th>Marital Status</th>\n",
              "    </tr>\n",
              "  </thead>\n",
              "  <tbody>\n",
              "    <tr>\n",
              "      <th>1233</th>\n",
              "      <td>NaN</td>\n",
              "      <td>﻿﻿</td>\n",
              "      <td>NaN</td>\n",
              "      <td>NaN</td>\n",
              "      <td>NaN</td>\n",
              "      <td>NaN</td>\n",
              "      <td>NaN</td>\n",
              "      <td>NaN</td>\n",
              "      <td>NaN</td>\n",
              "      <td>NaN</td>\n",
              "      <td>NaN</td>\n",
              "      <td>NaN</td>\n",
              "      <td>NaN</td>\n",
              "      <td>NaN</td>\n",
              "      <td>NaN</td>\n",
              "      <td>NaN</td>\n",
              "      <td>NaN</td>\n",
              "      <td>NaN</td>\n",
              "      <td>NaN</td>\n",
              "      <td>NaN</td>\n",
              "      <td>NaN</td>\n",
              "      <td>NaN</td>\n",
              "      <td>NaN</td>\n",
              "    </tr>\n",
              "  </tbody>\n",
              "</table>\n",
              "</div>"
            ],
            "text/plain": [
              "     Date of Interview Client name  ... Observed Attendance Marital Status\n",
              "1233               NaN          ﻿﻿  ...                 NaN            NaN\n",
              "\n",
              "[1 rows x 23 columns]"
            ]
          },
          "metadata": {},
          "execution_count": 46
        }
      ]
    },
    {
      "cell_type": "code",
      "metadata": {
        "id": "D16p6njLbbO_"
      },
      "source": [
        "df = df.drop(1233, axis = 0)"
      ],
      "execution_count": null,
      "outputs": []
    },
    {
      "cell_type": "code",
      "metadata": {
        "id": "XmhW8ITobbPA"
      },
      "source": [
        "df2 = df[['Industry',\n",
        "       'Position to be closed', 'Interview Type','Gender','Interview Venue',\n",
        "       'Have you obtained the necessary permission to start at the required time',\n",
        "       'Hope there will be no unscheduled meetings',\n",
        "       'Can I Call you three hours before the interview and follow up on your attendance for the interview',\n",
        "       'Can I have an alternative number/ desk number. I assure you that I will not trouble you too much',\n",
        "       'Have you taken a printout of your updated resume. Have you read the JD and understood the same',\n",
        "       'Are you clear with the venue details and the landmark.',\n",
        "       'Has the call letter been shared', 'Expected Attendance',\n",
        "       'Observed Attendance', 'Marital Status']]"
      ],
      "execution_count": null,
      "outputs": []
    },
    {
      "cell_type": "code",
      "metadata": {
        "id": "d-KUYT8vbbPC"
      },
      "source": [
        "def func():\n",
        "    \n",
        "    for i in df2.columns:\n",
        "        print(np.unique(pd.DataFrame(df2[i].value_counts()).reset_index()['index']).tolist())"
      ],
      "execution_count": null,
      "outputs": []
    },
    {
      "cell_type": "code",
      "metadata": {
        "id": "3GbfyOtDbbPE",
        "colab": {
          "base_uri": "https://localhost:8080/"
        },
        "outputId": "6d357343-8035-41c0-c73d-7c913249da64"
      },
      "source": [
        "func()"
      ],
      "execution_count": null,
      "outputs": [
        {
          "output_type": "stream",
          "name": "stdout",
          "text": [
            "['BFSI', 'Electronics', 'IT', 'IT Products and Services', 'IT Services', 'Pharmaceuticals', 'Telecom']\n",
            "['AML', 'Dot Net', 'Niche', 'Production- Sterile', 'Routine', 'Selenium testing', 'Trade Finance']\n",
            "['Sceduled walkin', 'Scheduled ', 'Scheduled Walk In', 'Scheduled Walkin', 'Walkin', 'Walkin ']\n",
            "['Female', 'Male']\n",
            "['- Cochin- ', 'Bangalore', 'Chennai', 'Gurgaon', 'Hosur', 'Hyderabad', 'Noida']\n",
            "['NO', 'Na', 'No', 'Not yet', 'Yes', 'Yet to confirm', 'yes']\n",
            "['Na', 'No', 'Not Sure', 'Not sure', 'Yes', 'cant Say', 'yes']\n",
            "['Na', 'No', 'No Dont', 'Yes', 'yes']\n",
            "['Na', 'No', 'No I have only thi number', 'Yes', 'na', 'yes']\n",
            "['Na', 'No', 'No- will take it soon', 'Not Yet', 'Not yet', 'Yes', 'na', 'yes']\n",
            "['Na', 'No', 'No- I need to check', 'Yes', 'na', 'no', 'yes']\n",
            "['Havent Checked', 'Na', 'Need To Check', 'No', 'Not Sure', 'Not sure', 'Not yet', 'Yes', 'Yet to Check', 'na', 'no', 'yes']\n",
            "['10.30 Am', '11:00 AM', 'NO', 'No', 'Uncertain', 'Yes', 'yes']\n",
            "['NO', 'No', 'No ', 'Yes', 'no', 'no ', 'yes', 'yes ']\n",
            "['Married', 'Single']\n"
          ]
        }
      ]
    },
    {
      "cell_type": "markdown",
      "metadata": {
        "id": "v4ubINv6bbPG"
      },
      "source": [
        "## CLEANING THE DATA"
      ]
    },
    {
      "cell_type": "code",
      "metadata": {
        "id": "9tDGY3eCbbPH"
      },
      "source": [
        "df2 = df2 .replace(['Sceduled walkin', 'Scheduled Walk In', 'Scheduled Walkin', 'Walkin', 'Walkin '], 'Walk-in')\n",
        "df2  = df2 .replace(['Scheduled '], 'Scheduled')\n",
        "df2  = df2 .replace(['Yes', 'yes', 'yes ', 'YES', ' yes', 'Y','10.30 Am', '11:00 AM'], 'y')\n",
        "df2  = df2 .replace(['No', 'no', 'no ', 'NO', ' no', 'N', 'Na','na','No I have only thi number',\n",
        "                        'No- will take it soon', 'n','Havent Checked','No ','No Dont','Not Yet'], 'n')\n",
        "df2  = df2 .replace(['Havent Checked', 'Need To Check', 'Not Sure', 'Not sure', 'Not yet', 'Yet to Check', \n",
        "                         'Yet to confirm','cant Say','No- I need to check'], 'Uncertain')\n",
        "df2 = df2.replace(['IT Products and Services', 'IT Services'], 'IT')"
      ],
      "execution_count": null,
      "outputs": []
    },
    {
      "cell_type": "code",
      "metadata": {
        "id": "MQSUSC4WbbPJ"
      },
      "source": [
        "def func():\n",
        "    \n",
        "    for i in df2.columns:\n",
        "        print(np.unique(pd.DataFrame(df2[i].value_counts()).reset_index()['index']).tolist())\n",
        "        #print(uni)"
      ],
      "execution_count": null,
      "outputs": []
    },
    {
      "cell_type": "code",
      "metadata": {
        "id": "suA3aqRhbbPK",
        "colab": {
          "base_uri": "https://localhost:8080/"
        },
        "outputId": "c7616e78-32ff-415f-e9e5-1b0baa23972b"
      },
      "source": [
        "func()"
      ],
      "execution_count": null,
      "outputs": [
        {
          "output_type": "stream",
          "name": "stdout",
          "text": [
            "['BFSI', 'Electronics', 'IT', 'Pharmaceuticals', 'Telecom']\n",
            "['AML', 'Dot Net', 'Niche', 'Production- Sterile', 'Routine', 'Selenium testing', 'Trade Finance']\n",
            "['Scheduled', 'Walk-in']\n",
            "['Female', 'Male']\n",
            "['- Cochin- ', 'Bangalore', 'Chennai', 'Gurgaon', 'Hosur', 'Hyderabad', 'Noida']\n",
            "['Uncertain', 'n', 'y']\n",
            "['Uncertain', 'n', 'y']\n",
            "['n', 'y']\n",
            "['n', 'y']\n",
            "['Uncertain', 'n', 'y']\n",
            "['Uncertain', 'n', 'y']\n",
            "['Uncertain', 'n', 'y']\n",
            "['Uncertain', 'n', 'y']\n",
            "['n', 'y']\n",
            "['Married', 'Single']\n"
          ]
        }
      ]
    },
    {
      "cell_type": "code",
      "metadata": {
        "id": "4skr8R6wbbPM",
        "colab": {
          "base_uri": "https://localhost:8080/"
        },
        "outputId": "55fb8148-0690-4ecf-c5dc-e5818ae93713"
      },
      "source": [
        "df2.columns"
      ],
      "execution_count": null,
      "outputs": [
        {
          "output_type": "execute_result",
          "data": {
            "text/plain": [
              "Index(['Industry', 'Position to be closed', 'Interview Type', 'Gender',\n",
              "       'Interview Venue',\n",
              "       'Have you obtained the necessary permission to start at the required time',\n",
              "       'Hope there will be no unscheduled meetings',\n",
              "       'Can I Call you three hours before the interview and follow up on your attendance for the interview',\n",
              "       'Can I have an alternative number/ desk number. I assure you that I will not trouble you too much',\n",
              "       'Have you taken a printout of your updated resume. Have you read the JD and understood the same',\n",
              "       'Are you clear with the venue details and the landmark.',\n",
              "       'Has the call letter been shared', 'Expected Attendance',\n",
              "       'Observed Attendance', 'Marital Status'],\n",
              "      dtype='object')"
            ]
          },
          "metadata": {},
          "execution_count": 54
        }
      ]
    },
    {
      "cell_type": "code",
      "metadata": {
        "id": "NsPLwmQObbPO",
        "colab": {
          "base_uri": "https://localhost:8080/"
        },
        "outputId": "86c0c5cf-ec5c-4fd4-c748-c3e3d7ed101f"
      },
      "source": [
        "df2.isnull().sum()"
      ],
      "execution_count": null,
      "outputs": [
        {
          "output_type": "execute_result",
          "data": {
            "text/plain": [
              "Industry                                                                                                0\n",
              "Position to be closed                                                                                   0\n",
              "Interview Type                                                                                          0\n",
              "Gender                                                                                                  0\n",
              "Interview Venue                                                                                         0\n",
              "Have you obtained the necessary permission to start at the required time                              204\n",
              "Hope there will be no unscheduled meetings                                                            247\n",
              "Can I Call you three hours before the interview and follow up on your attendance for the interview    247\n",
              "Can I have an alternative number/ desk number. I assure you that I will not trouble you too much      247\n",
              "Have you taken a printout of your updated resume. Have you read the JD and understood the same        248\n",
              "Are you clear with the venue details and the landmark.                                                248\n",
              "Has the call letter been shared                                                                       245\n",
              "Expected Attendance                                                                                     5\n",
              "Observed Attendance                                                                                     0\n",
              "Marital Status                                                                                          0\n",
              "dtype: int64"
            ]
          },
          "metadata": {},
          "execution_count": 55
        }
      ]
    },
    {
      "cell_type": "code",
      "metadata": {
        "id": "rqBIeTpUbbPQ",
        "colab": {
          "base_uri": "https://localhost:8080/"
        },
        "outputId": "cecd7287-19d9-4ef8-cefd-39d793cea9b7"
      },
      "source": [
        "df2 = df2.fillna('n')\n",
        "df2.isnull().sum().sum()"
      ],
      "execution_count": null,
      "outputs": [
        {
          "output_type": "execute_result",
          "data": {
            "text/plain": [
              "0"
            ]
          },
          "metadata": {},
          "execution_count": 56
        }
      ]
    },
    {
      "cell_type": "code",
      "metadata": {
        "id": "u6YQaGLRbbPS"
      },
      "source": [
        "y = pd.DataFrame(df2.groupby(by = ['Marital Status', 'Observed Attendance'])\n",
        "                 ['Expected Attendance'].count()).reset_index()"
      ],
      "execution_count": null,
      "outputs": []
    },
    {
      "cell_type": "markdown",
      "metadata": {
        "id": "Cw0OcnncbbPT"
      },
      "source": [
        "## LabelEncoder\n",
        "\n",
        "* It can also be used to transform non-numerical labels (as long as they are hashable and comparable) to numerical labels."
      ]
    },
    {
      "cell_type": "code",
      "metadata": {
        "id": "kwpbmnCpbbPV"
      },
      "source": [
        "from sklearn import preprocessing\n",
        "\n",
        "le = preprocessing.LabelEncoder()\n",
        "df3 = df2.apply(le.fit_transform)\n",
        "\n",
        "names = ['No', 'Yes']"
      ],
      "execution_count": null,
      "outputs": []
    },
    {
      "cell_type": "code",
      "metadata": {
        "id": "XNfG--YvbbPW"
      },
      "source": [
        "X = df3.drop(['Observed Attendance','Expected Attendance'], axis = 1)\n",
        "y = df3['Observed Attendance']"
      ],
      "execution_count": null,
      "outputs": []
    },
    {
      "cell_type": "markdown",
      "metadata": {
        "id": "Fri9rnzGbbPX"
      },
      "source": [
        "## Split dataset into training set and test set"
      ]
    },
    {
      "cell_type": "code",
      "metadata": {
        "id": "XK2Hx0eJbbPY"
      },
      "source": [
        "X_train, X_test, y_train, y_test = train_test_split(X, y, test_size = 0.2, random_state = 1)"
      ],
      "execution_count": null,
      "outputs": []
    },
    {
      "cell_type": "code",
      "metadata": {
        "id": "CmIaWYKdbbPZ"
      },
      "source": [
        "def model_fit(x):\n",
        "    x.fit(X_train, y_train)\n",
        "    y_pred = x.predict(X_test)\n",
        "    model_fit.accuracy = accuracy_score(y_pred, y_test)\n",
        "    print('Accuracy Score',accuracy_score(y_pred, y_test))\n",
        "    print(classification_report(y_pred, y_test))\n",
        "        \n",
        "    classes = names\n",
        "    \n",
        "    model_cm = ConfusionMatrix(\n",
        "    x, classes = classes,\n",
        "    label_encoder = {0 : 'No', 1 : 'Yes'})\n",
        "    \n",
        "    model_cm.fit(X_train, y_train)\n",
        "    model_cm.score(X_test, y_test)\n",
        "    \n",
        "    model_cm.poof()  "
      ],
      "execution_count": null,
      "outputs": []
    },
    {
      "cell_type": "markdown",
      "metadata": {
        "id": "o4yX6AaQbbPa"
      },
      "source": [
        "### Naive Bayes classifier calculates the probability of an event in the following steps:\n",
        "\n",
        "> Step 1: Calculate the prior probability for given class labels\n",
        "\n",
        "> Step 2: Find Likelihood probability with each attribute for each class\n",
        "\n",
        "> Step 3: Put these value in Bayes Formula and calculate posterior probability.\n",
        "\n",
        "> Step 4: See which class has a higher probability, given the input belongs to the higher probability class."
      ]
    },
    {
      "cell_type": "markdown",
      "metadata": {
        "id": "RZw1xujEbbPb"
      },
      "source": [
        "## Accuracy Analysis"
      ]
    },
    {
      "cell_type": "code",
      "metadata": {
        "id": "kgogaDFSbbPc",
        "colab": {
          "base_uri": "https://localhost:8080/",
          "height": 532
        },
        "outputId": "d27191ea-4033-4e0e-91d1-fdf2089618c1"
      },
      "source": [
        "from sklearn.naive_bayes import GaussianNB\n",
        "model_fit(GaussianNB())\n",
        "Gaussian = model_fit.accuracy"
      ],
      "execution_count": null,
      "outputs": [
        {
          "output_type": "stream",
          "name": "stdout",
          "text": [
            "Accuracy Score 0.7206477732793523\n",
            "              precision    recall  f1-score   support\n",
            "\n",
            "           0       0.47      0.62      0.54        64\n",
            "           1       0.85      0.75      0.80       183\n",
            "\n",
            "    accuracy                           0.72       247\n",
            "   macro avg       0.66      0.69      0.67       247\n",
            "weighted avg       0.75      0.72      0.73       247\n",
            "\n"
          ]
        },
        {
          "output_type": "stream",
          "name": "stderr",
          "text": [
            "/usr/local/lib/python3.7/dist-packages/sklearn/metrics/_classification.py:191: FutureWarning: elementwise comparison failed; returning scalar instead, but in the future will perform elementwise comparison\n",
            "  score = y_true == y_pred\n"
          ]
        },
        {
          "output_type": "display_data",
          "data": {
            "image/png": "[encoded data removed]",
            "text/plain": [
              "<Figure size 432x288 with 1 Axes>"
            ]
          },
          "metadata": {
            "needs_background": "light"
          }
        }
      ]
    }
  ]
}